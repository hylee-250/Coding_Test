{
 "cells": [
  {
   "cell_type": "markdown",
   "id": "59ba9a44",
   "metadata": {},
   "source": [
    "# My solution"
   ]
  },
  {
   "cell_type": "code",
   "execution_count": 3,
   "id": "28959a72",
   "metadata": {},
   "outputs": [],
   "source": [
    "def solution(name):\n",
    "    answer = 0\n",
    "    namelen = len(name)\n",
    "    move = [0] * namelen\n",
    "    origin = \"A\" * namelen\n",
    "    AZ = 26\n",
    "    for idx in range(namelen):\n",
    "        gap = ord(name[idx]) - ord(origin[idx])\n",
    "        if(gap > 13):\n",
    "            gap = AZ - gap\n",
    "        move[idx] = gap\n",
    "    print(move)\n",
    "    idx = 0\n",
    "    #---------------------Reference------------------------------\n",
    "    while True:\n",
    "        answer += move[idx]\n",
    "        move[idx] = 0\n",
    "        if(sum(move)==0):\n",
    "            break\n",
    "        left, right = 1, 1\n",
    "        while(move[idx-left]==0):\n",
    "            left+=1\n",
    "        while(move[idx+right]==0):\n",
    "            right+=1\n",
    "        answer += left if left < right else right\n",
    "        idx += -left if left < right else right\n",
    "    #-------------------------------------------------------------\n",
    "    return answer"
   ]
  },
  {
   "cell_type": "code",
   "execution_count": 4,
   "id": "7629bfd1",
   "metadata": {},
   "outputs": [],
   "source": [
    "def solution(name):  # 65~90(A~Z)\n",
    "    moves = [min(ord(s) - ord('A'), ord('Z') - ord(s) + 1) for s in name]\n",
    "\n",
    "    pos = 0\n",
    "    answer = 0\n",
    "    while True:\n",
    "        answer += moves[pos]\n",
    "        moves[pos] = 0\n",
    "\n",
    "        if sum(moves) == 0: break\n",
    "\n",
    "        left = 1\n",
    "        right = 1\n",
    "\n",
    "        while moves[pos - left] == 0:\n",
    "            left += 1\n",
    "\n",
    "        while moves[pos + right] == 0:\n",
    "            right += 1\n",
    "\n",
    "        if left >= right:\n",
    "            pos += right\n",
    "            answer += right\n",
    "\n",
    "        else:\n",
    "            pos -= left\n",
    "            answer += left\n",
    "\n",
    "    return answer"
   ]
  },
  {
   "cell_type": "code",
   "execution_count": null,
   "id": "ed95be62",
   "metadata": {},
   "outputs": [],
   "source": []
  }
 ],
 "metadata": {
  "kernelspec": {
   "display_name": "Python 3",
   "language": "python",
   "name": "python3"
  },
  "language_info": {
   "codemirror_mode": {
    "name": "ipython",
    "version": 3
   },
   "file_extension": ".py",
   "mimetype": "text/x-python",
   "name": "python",
   "nbconvert_exporter": "python",
   "pygments_lexer": "ipython3",
   "version": "3.9.4"
  }
 },
 "nbformat": 4,
 "nbformat_minor": 5
}
