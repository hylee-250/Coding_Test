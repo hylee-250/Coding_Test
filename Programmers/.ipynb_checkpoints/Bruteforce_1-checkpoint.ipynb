{
 "cells": [
  {
   "cell_type": "code",
   "execution_count": null,
   "id": "400ed23a",
   "metadata": {},
   "outputs": [],
   "source": [
    "def solution(answers):\n",
    "    first = []\n",
    "    prob = len(answers)\n",
    "    mp1 = [1,2,3,4,5]\n",
    "    mp2 = [2,1,2,3,2,4,2,5]\n",
    "    mp3 = [3,3,1,1,2,2,4,4,5,5]\n",
    "    if(prob<len(mp1)):\n",
    "        ans1 = mp1[:prob]\n",
    "    else:\n",
    "        ans1 = mp1 * (prob//len(mp1)) + mp1[:(prob % len(mp1))]\n",
    "    if(prob<len(mp2)):\n",
    "        ans2 = mp2[:prob]\n",
    "    else:\n",
    "        ans2 = mp2 * (prob//len(mp2)) + mp2[:(prob % len(mp2))]\n",
    "    if(prob<len(mp3)):\n",
    "        ans3 = mp3[:prob]\n",
    "    else:\n",
    "        ans3 = mp3 * (prob//len(mp3)) + mp3[:(prob % len(mp3))]\n",
    "#    print(ans1)\n",
    "#    print(ans2)\n",
    "#    print(ans3)\n",
    "    cnt1 = 0\n",
    "    cnt2 = 0\n",
    "    cnt3 = 0\n",
    "    for idx in range(prob):\n",
    "        if(ans1[idx] == answers[idx]):\n",
    "            cnt1 += 1\n",
    "        if(ans2[idx] == answers[idx]):\n",
    "            cnt2 += 1\n",
    "        if(ans3[idx] == answers[idx]):\n",
    "            cnt3 += 1\n",
    "    check = [cnt1,cnt2,cnt3]\n",
    "    max_val = max(check)\n",
    "    for idx in range(3):\n",
    "        check[idx] = check[idx] - max_val\n",
    "        if(check[idx] == 0):\n",
    "            first.append(idx+1)\n",
    "    return first"
   ]
  },
  {
   "cell_type": "code",
   "execution_count": null,
   "id": "1c99e9ac",
   "metadata": {},
   "outputs": [],
   "source": [
    "def solution(answers):\n",
    "    pattern1 = [1,2,3,4,5]\n",
    "    pattern2 = [2,1,2,3,2,4,2,5]\n",
    "    pattern3 = [3,3,1,1,2,2,4,4,5,5]\n",
    "    score = [0, 0, 0]\n",
    "    result = []\n",
    "\n",
    "    for idx, answer in enumerate(answers):\n",
    "        if answer == pattern1[idx%len(pattern1)]:\n",
    "            score[0] += 1\n",
    "        if answer == pattern2[idx%len(pattern2)]:\n",
    "            score[1] += 1\n",
    "        if answer == pattern3[idx%len(pattern3)]:\n",
    "            score[2] += 1\n",
    "\n",
    "    for idx, s in enumerate(score):\n",
    "        if s == max(score):\n",
    "            result.append(idx+1)\n",
    "\n",
    "    return result"
   ]
  }
 ],
 "metadata": {
  "kernelspec": {
   "display_name": "Python 3",
   "language": "python",
   "name": "python3"
  },
  "language_info": {
   "codemirror_mode": {
    "name": "ipython",
    "version": 3
   },
   "file_extension": ".py",
   "mimetype": "text/x-python",
   "name": "python",
   "nbconvert_exporter": "python",
   "pygments_lexer": "ipython3",
   "version": "3.9.4"
  }
 },
 "nbformat": 4,
 "nbformat_minor": 5
}
