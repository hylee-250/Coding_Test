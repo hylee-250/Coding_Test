{
 "cells": [
  {
   "cell_type": "markdown",
   "id": "29197449",
   "metadata": {},
   "source": [
    "def solution(n, lost, reserve):    \n",
    "answer = 0  \n",
    "return answer"
   ]
  },
  {
   "cell_type": "markdown",
   "id": "3e345ed7",
   "metadata": {},
   "source": [
    "n : 2 ~ 30  \n",
    "lost : 1 ~ n  \n",
    "reserve: 1 ~ n  "
   ]
  },
  {
   "cell_type": "markdown",
   "id": "68611fbb",
   "metadata": {},
   "source": [
    "idea 1\n",
    "\n",
    "학생 수 n에서 lost의 길이를 빼고 reserve의 길이를 더한다.\n",
    "\n",
    "단 reserve의 번호와 lost의 번호가 1 차이가 날 때만 더해준다."
   ]
  },
  {
   "cell_type": "code",
   "execution_count": 74,
   "id": "b5fdfd18",
   "metadata": {},
   "outputs": [],
   "source": [
    "def solution(n, lost, reserve):\n",
    "    answer = 0\n",
    "    cnt = 0\n",
    "    # lost reserve에 동시에 존재 시 빌려줄 수 없음\n",
    "    # 중복된 값들 제거\n",
    "    intersection = set(lost) - (set(lost)-set(reserve))\n",
    "    lost = list(set(lost)-intersection)\n",
    "    reserve = list(set(reserve)-intersection)\n",
    "    print(\"lost: \",lost)\n",
    "    print(\"reserve\", reserve)\n",
    "\n",
    "    for i in range(len(lost)):\n",
    "        for j in range(len(reserve)):\n",
    "            # 같은 값들을 다 뺀 이후이기 때문에 1 차이 나는 값이 존재할때만 진행\n",
    "            if(abs(lost[i] - reserve[j]) == 1):  # 뒷 사람 것을 빌렸을 때 이득인 경우는 어떻게 처리하지?\n",
    "                lost[i] = -1\n",
    "                reserve[j] = -1\n",
    "                cnt += 1\n",
    "    if(cnt == len(lost)):\n",
    "        answer = n  # 여벌 체육복을 모두 빌려줬을 때\n",
    "    else:\n",
    "        answer = n - len(lost) + cnt\n",
    "    return answer"
   ]
  },
  {
   "cell_type": "code",
   "execution_count": 24,
   "id": "cb3f3879",
   "metadata": {},
   "outputs": [
    {
     "name": "stdout",
     "output_type": "stream",
     "text": [
      "3\n",
      "2\n",
      "3\n"
     ]
    }
   ],
   "source": [
    "ans1 = solution(3,[3],[2]) # 3\n",
    "ans2 = solution(3,[1,2],[3]) # 2\n",
    "ans3 = solution(4,[2,3],[4]) # 3\n",
    "print(ans1)\n",
    "print(ans2)\n",
    "print(ans3)"
   ]
  },
  {
   "cell_type": "code",
   "execution_count": 25,
   "id": "73f8bc59",
   "metadata": {},
   "outputs": [
    {
     "name": "stdout",
     "output_type": "stream",
     "text": [
      "2\n",
      "3\n"
     ]
    }
   ],
   "source": [
    "ans4 = solution(3,[1],[3]) # 2\n",
    "ans5 = solution(4,[2,4],[3]) # 3\n",
    "print(ans4)\n",
    "print(ans5)"
   ]
  },
  {
   "cell_type": "code",
   "execution_count": 26,
   "id": "229e01a2",
   "metadata": {},
   "outputs": [
    {
     "name": "stdout",
     "output_type": "stream",
     "text": [
      "5\n"
     ]
    }
   ],
   "source": [
    "ans6 = solution(5,[2,4],[1,3,5]) # 5\n",
    "print(ans6)"
   ]
  },
  {
   "cell_type": "code",
   "execution_count": 30,
   "id": "52bc25ad",
   "metadata": {},
   "outputs": [
    {
     "name": "stdout",
     "output_type": "stream",
     "text": [
      "5 6 5\n"
     ]
    }
   ],
   "source": [
    "ans7 = solution(6,[1,5,6],[1,4]) # 5\n",
    "ans8 = solution(6,[1,5,6],[2,5,6]) # 6\n",
    "ans9 = solution(6,[2,3,5],[4,6]) # 5\n",
    "print(ans7,ans8,ans9)"
   ]
  },
  {
   "cell_type": "code",
   "execution_count": 31,
   "id": "1794ffbf",
   "metadata": {},
   "outputs": [
    {
     "name": "stdout",
     "output_type": "stream",
     "text": [
      "6\n"
     ]
    }
   ],
   "source": [
    "case1 = solution(6,[3,5],[1,4,6]) # 6\n",
    "print(case1)"
   ]
  },
  {
   "cell_type": "code",
   "execution_count": 32,
   "id": "c03fb205",
   "metadata": {},
   "outputs": [
    {
     "name": "stdout",
     "output_type": "stream",
     "text": [
      "6\n"
     ]
    }
   ],
   "source": [
    "case2 = solution(6,[1,3,5],[2,4,6]) # 6\n",
    "print(case2)"
   ]
  },
  {
   "cell_type": "code",
   "execution_count": 56,
   "id": "07428046",
   "metadata": {},
   "outputs": [],
   "source": [
    "import random\n",
    "\n",
    "def test_case():\n",
    "    n = int(input())\n",
    "    lost = []\n",
    "    reserve = []\n",
    "\n",
    "    a = random.randint(1,n)\n",
    "    b = random.randint(1,n)\n",
    "    while(len(lost) != a):\n",
    "        c = random.randint(1,n)\n",
    "        if(c not in lost):\n",
    "            lost.append(c)\n",
    "    while(len(reserve) != b):\n",
    "        d = random.randint(1,n)\n",
    "        if(d not in reserve):\n",
    "            reserve.append(d)\n",
    "    lost.sort()\n",
    "    reserve.sort()\n",
    "    print(lost)\n",
    "    print(reserve)\n",
    "    return n,lost,reserve"
   ]
  },
  {
   "cell_type": "code",
   "execution_count": 68,
   "id": "ae1b274e",
   "metadata": {
    "scrolled": true
   },
   "outputs": [
    {
     "name": "stdout",
     "output_type": "stream",
     "text": [
      "6\n",
      "[1, 3, 5, 6]\n",
      "[1, 2, 4, 5, 6]\n",
      "6\n",
      "\n",
      "\n",
      "7\n",
      "[1, 2, 3, 5, 6, 7]\n",
      "[4, 5, 6, 7]\n",
      "5\n",
      "\n",
      "\n",
      "8\n",
      "[7]\n",
      "[1, 2, 3, 4, 5, 7, 8]\n",
      "8\n",
      "\n",
      "\n",
      "9\n",
      "[1, 2, 3, 4, 5, 6, 7, 8, 9]\n",
      "[1, 3, 4, 9]\n",
      "7\n",
      "\n",
      "\n",
      "10\n",
      "[5]\n",
      "[1, 2, 4, 5, 6, 7, 8, 10]\n",
      "10\n",
      "\n",
      "\n"
     ]
    }
   ],
   "source": [
    "for i in range(5):\n",
    "    n, lost, reserve = test_case()\n",
    "    print(solution(n,lost,reserve))\n",
    "    print('\\n')"
   ]
  },
  {
   "cell_type": "code",
   "execution_count": 55,
   "id": "792b10a7",
   "metadata": {},
   "outputs": [
    {
     "name": "stdout",
     "output_type": "stream",
     "text": [
      "2\n"
     ]
    }
   ],
   "source": [
    "case3 = solution(3,[1,2,3],[1,2]) # 2\n",
    "print(case3)"
   ]
  },
  {
   "cell_type": "code",
   "execution_count": 66,
   "id": "c0f3ae41",
   "metadata": {},
   "outputs": [
    {
     "name": "stdout",
     "output_type": "stream",
     "text": [
      "[3]\n"
     ]
    }
   ],
   "source": [
    "print(list(set([1,2,3])-set([1,2])))"
   ]
  },
  {
   "cell_type": "code",
   "execution_count": 75,
   "id": "bb8f0d6d",
   "metadata": {},
   "outputs": [
    {
     "name": "stdout",
     "output_type": "stream",
     "text": [
      "lost:  [2, 5, 6, 7, 8]\n",
      "reserve []\n",
      "4\n"
     ]
    }
   ],
   "source": [
    "case4 = solution(9,[1,2,3,4,5,6,7,8,9],[1,3,4,9]) # 4\n",
    "print(case4)"
   ]
  },
  {
   "cell_type": "markdown",
   "id": "59c4aa7f",
   "metadata": {},
   "source": [
    "# Solution"
   ]
  },
  {
   "cell_type": "code",
   "execution_count": null,
   "id": "df23016e",
   "metadata": {},
   "outputs": [],
   "source": [
    "def solution(n, lost, reserve):\n",
    "    _reserve = [r for r in reserve if r not in lost]\n",
    "    _lost = [l for l in lost if l not in reserve]\n",
    "    for r in _reserve:\n",
    "        f = r - 1\n",
    "        b = r + 1\n",
    "        if f in _lost:\n",
    "            _lost.remove(f)\n",
    "        elif b in _lost:\n",
    "            _lost.remove(b)\n",
    "    return n - len(_lost)"
   ]
  }
 ],
 "metadata": {
  "kernelspec": {
   "display_name": "Python 3",
   "language": "python",
   "name": "python3"
  },
  "language_info": {
   "codemirror_mode": {
    "name": "ipython",
    "version": 3
   },
   "file_extension": ".py",
   "mimetype": "text/x-python",
   "name": "python",
   "nbconvert_exporter": "python",
   "pygments_lexer": "ipython3",
   "version": "3.9.4"
  }
 },
 "nbformat": 4,
 "nbformat_minor": 5
}
