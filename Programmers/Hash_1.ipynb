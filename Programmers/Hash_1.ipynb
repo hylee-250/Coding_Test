{
 "cells": [
  {
   "cell_type": "code",
   "execution_count": 4,
   "id": "f24b4cb7",
   "metadata": {},
   "outputs": [],
   "source": [
    "# 정확도 통과, 효율성 시간초과 50/100\n",
    "\n",
    "def solution(participant, completion):\n",
    "    answer = ''\n",
    "    temp = set(participant)\n",
    "    duplicate = list(set([x for x in temp if participant.count(x)>1]))\n",
    "    duplicate = [x for x in temp if participant.count(x) != completion.count(x)]\n",
    "    answer = duplicate[0]\n",
    "    for i in duplicate:\n",
    "        if(participant.count(i) != completion.count(i)):\n",
    "            answer = i\n",
    "            return answer\n",
    "    retire = list(set(participant) - set(completion))\n",
    "    answer = retire[0]\n",
    "    return answer"
   ]
  },
  {
   "cell_type": "code",
   "execution_count": 3,
   "id": "ae6063eb",
   "metadata": {},
   "outputs": [],
   "source": [
    "# 정확도 30, 효율성 40 -> 70/100\n",
    "\n",
    "def solution(participant, completion):\n",
    "    answer = ''\n",
    "    part_set = set(participant)\n",
    "    comp_set = set(completion)\n",
    "    if(len(part_set) != len(comp_set)):\n",
    "        answer = list(part_set - comp_set)[0]\n",
    "    else:\n",
    "        if(part_set == comp_set):\n",
    "            for i in participant:\n",
    "                if(participant.count(i) ==2):\n",
    "                    answer = i\n",
    "                    return answer\n",
    "        else:\n",
    "            answer = list(part_set - comp_set)[0]\n",
    "    return answer"
   ]
  },
  {
   "cell_type": "markdown",
   "id": "eee40f84",
   "metadata": {},
   "source": [
    "## 표준 라이브러리 collections.Counter() 사용"
   ]
  },
  {
   "cell_type": "code",
   "execution_count": 5,
   "id": "7031c270",
   "metadata": {},
   "outputs": [],
   "source": [
    "from collections import Counter\n",
    "\n",
    "def solution(participant, completion):\n",
    "    answer = ''\n",
    "    part = Counter(participant)\n",
    "    comp = Counter(completion)\n",
    "    retire = part-comp\n",
    "    answer = list(retire.keys())[0]\n",
    "    return answer"
   ]
  },
  {
   "cell_type": "code",
   "execution_count": null,
   "id": "dae3b50a",
   "metadata": {},
   "outputs": [],
   "source": []
  }
 ],
 "metadata": {
  "kernelspec": {
   "display_name": "Python 3",
   "language": "python",
   "name": "python3"
  },
  "language_info": {
   "codemirror_mode": {
    "name": "ipython",
    "version": 3
   },
   "file_extension": ".py",
   "mimetype": "text/x-python",
   "name": "python",
   "nbconvert_exporter": "python",
   "pygments_lexer": "ipython3",
   "version": "3.9.4"
  }
 },
 "nbformat": 4,
 "nbformat_minor": 5
}
