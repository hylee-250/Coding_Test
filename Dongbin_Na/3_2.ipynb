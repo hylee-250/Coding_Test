{
 "cells": [
  {
   "cell_type": "code",
   "execution_count": 3,
   "id": "1c55c2f0",
   "metadata": {},
   "outputs": [],
   "source": [
    "# input\n",
    "# N M K\n",
    "# 5 8 3\n",
    "# 2 4 5 4 6\n",
    "\n",
    "# output\n",
    "# MAX sum\n",
    "# 46"
   ]
  },
  {
   "cell_type": "code",
   "execution_count": 23,
   "id": "4e4a76cf",
   "metadata": {},
   "outputs": [
    {
     "name": "stdout",
     "output_type": "stream",
     "text": [
      "5 8 3\n",
      "2 4 5 4 6\n",
      "46\n"
     ]
    }
   ],
   "source": [
    "N, M, K = input().split()\n",
    "N = int(N)\n",
    "M = int(M)\n",
    "K = int(K)\n",
    "num = input().split()\n",
    "for i in range(N):\n",
    "    num[i] = int(num[i])\n",
    "num.sort(reverse= True)\n",
    "#print(num)\n",
    "cnt = 0\n",
    "total = 0\n",
    "idx = 0\n",
    "for _ in range(M):\n",
    "    if(cnt != K):\n",
    "        total += num[idx]\n",
    "        cnt += 1\n",
    "    else:\n",
    "        if(num[0] == num[1]):\n",
    "            idx = int(not idx)\n",
    "            total += num[idx]\n",
    "            cnt = 1\n",
    "        else:\n",
    "            total += num[int(not idx)]\n",
    "            cnt = 0\n",
    "    #print(f'total: {total}')\n",
    "print(total)"
   ]
  },
  {
   "cell_type": "code",
   "execution_count": 25,
   "id": "9ee4817a",
   "metadata": {},
   "outputs": [
    {
     "name": "stdout",
     "output_type": "stream",
     "text": [
      "5 8 3\n",
      "2 4 5 4 6\n",
      "46\n"
     ]
    }
   ],
   "source": [
    "# Solution\n",
    "n, m, k = map(int, input().split())\n",
    "data = list(map(int,input().split()))\n",
    "\n",
    "data.sort()\n",
    "first = data[n-1]\n",
    "second = data[n-2]\n",
    "\n",
    "count = int(m/ (k+1)) *k\n",
    "count += m % (k+1)\n",
    "\n",
    "result = 0\n",
    "result += (count) * first\n",
    "result += (m-count) *second\n",
    "\n",
    "print(result)"
   ]
  },
  {
   "cell_type": "code",
   "execution_count": null,
   "id": "1f26b701",
   "metadata": {},
   "outputs": [],
   "source": []
  }
 ],
 "metadata": {
  "kernelspec": {
   "display_name": "Python 3",
   "language": "python",
   "name": "python3"
  },
  "language_info": {
   "codemirror_mode": {
    "name": "ipython",
    "version": 3
   },
   "file_extension": ".py",
   "mimetype": "text/x-python",
   "name": "python",
   "nbconvert_exporter": "python",
   "pygments_lexer": "ipython3",
   "version": "3.9.4"
  }
 },
 "nbformat": 4,
 "nbformat_minor": 5
}
