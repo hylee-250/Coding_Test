{
 "cells": [
  {
   "cell_type": "code",
   "execution_count": 15,
   "id": "ff652faf",
   "metadata": {},
   "outputs": [
    {
     "name": "stdout",
     "output_type": "stream",
     "text": [
      "5\n",
      "3 1 4 3 2\n",
      "32\n"
     ]
    }
   ],
   "source": [
    "N = int(input())\n",
    "time = input().split()\n",
    "for i in range(N):\n",
    "    time[i] = int(time[i])\n",
    "time.sort()\n",
    "total = 0\n",
    "for i in range(N):\n",
    "    temp = 0\n",
    "    for j in range(i+1):\n",
    "        temp += time[j]\n",
    "    total += temp\n",
    "print(total)"
   ]
  },
  {
   "cell_type": "code",
   "execution_count": null,
   "id": "20d0dbce",
   "metadata": {},
   "outputs": [],
   "source": []
  }
 ],
 "metadata": {
  "kernelspec": {
   "display_name": "Python 3",
   "language": "python",
   "name": "python3"
  },
  "language_info": {
   "codemirror_mode": {
    "name": "ipython",
    "version": 3
   },
   "file_extension": ".py",
   "mimetype": "text/x-python",
   "name": "python",
   "nbconvert_exporter": "python",
   "pygments_lexer": "ipython3",
   "version": "3.9.4"
  }
 },
 "nbformat": 4,
 "nbformat_minor": 5
}
